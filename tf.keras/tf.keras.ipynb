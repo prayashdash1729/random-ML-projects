{
 "cells": [
  {
   "cell_type": "code",
   "execution_count": 1,
   "metadata": {},
   "outputs": [],
   "source": [
    "import tensorflow as tf\n",
    "from tensorflow import keras\n",
    "from tensorflow.keras import layers\n",
    "from tensorflow.keras.datasets import mnist\n",
    "import os\n",
    "import numpy as np\n",
    "os.environ['TFF_CPP_MIN_LOG_LEVEL'] = '2'"
   ]
  },
  {
   "cell_type": "code",
   "execution_count": 2,
   "metadata": {},
   "outputs": [],
   "source": [
    "import matplotlib.pyplot as plt"
   ]
  },
  {
   "cell_type": "code",
   "execution_count": 3,
   "metadata": {},
   "outputs": [],
   "source": [
    "(x_train, y_train), (x_test, y_test) = mnist.load_data()"
   ]
  },
  {
   "cell_type": "code",
   "execution_count": 4,
   "metadata": {},
   "outputs": [
    {
     "data": {
      "text/plain": [
       "<matplotlib.image.AxesImage at 0x1dd56359bb0>"
      ]
     },
     "execution_count": 4,
     "metadata": {},
     "output_type": "execute_result"
    },
    {
     "data": {
      "image/png": "[encoded data removed]",
      "text/plain": [
       "<Figure size 640x480 with 1 Axes>"
      ]
     },
     "metadata": {},
     "output_type": "display_data"
    }
   ],
   "source": [
    "plt.imshow(x_train[1])"
   ]
  },
  {
   "cell_type": "code",
   "execution_count": null,
   "metadata": {},
   "outputs": [],
   "source": []
  },
  {
   "cell_type": "code",
   "execution_count": 5,
   "metadata": {},
   "outputs": [
    {
     "data": {
      "text/plain": [
       "(10000, 28, 28)"
      ]
     },
     "execution_count": 5,
     "metadata": {},
     "output_type": "execute_result"
    }
   ],
   "source": [
    "x_test.shape"
   ]
  },
  {
   "cell_type": "code",
   "execution_count": 6,
   "metadata": {},
   "outputs": [],
   "source": [
    "x_train = x_train.reshape(-1, 28*28).astype(\"float32\") /255\n",
    "x_test = x_test.reshape(-1, 28*28).astype(\"float32\") / 255\n",
    "\n",
    "# removing normalisation - less accuracy, more time to train\n",
    "# x_train = x_train.reshape(-1, 28*28).astype(\"float32\")\n",
    "# x_test = x_test.reshape(-1, 28*28).astype(\"float32\")"
   ]
  },
  {
   "cell_type": "code",
   "execution_count": 7,
   "metadata": {},
   "outputs": [
    {
     "data": {
      "text/plain": [
       "numpy.ndarray"
      ]
     },
     "execution_count": 7,
     "metadata": {},
     "output_type": "execute_result"
    }
   ],
   "source": [
    "type(x_train)"
   ]
  },
  {
   "cell_type": "code",
   "execution_count": 8,
   "metadata": {},
   "outputs": [],
   "source": [
    "# x_train = tf.convert_to_tensor(x_trian)\n",
    "# no need to do as this will be done internally"
   ]
  },
  {
   "cell_type": "code",
   "execution_count": 9,
   "metadata": {},
   "outputs": [
    {
     "name": "stdout",
     "output_type": "stream",
     "text": [
      "Model: \"sequential\"\n",
      "_________________________________________________________________\n",
      " Layer (type)                Output Shape              Param #   \n",
      "=================================================================\n",
      " dense (Dense)               (None, 512)               401920    \n",
      "                                                                 \n",
      " dense_1 (Dense)             (None, 256)               131328    \n",
      "                                                                 \n",
      " dense_2 (Dense)             (None, 128)               32896     \n",
      "                                                                 \n",
      " dense_3 (Dense)             (None, 10)                1290      \n",
      "                                                                 \n",
      "=================================================================\n",
      "Total params: 567,434\n",
      "Trainable params: 567,434\n",
      "Non-trainable params: 0\n",
      "_________________________________________________________________\n"
     ]
    }
   ],
   "source": [
    "model = keras.Sequential(\n",
    "    [\n",
    "        keras.Input(shape=(28*28)),\n",
    "        layers.Dense(512, activation=\"relu\"),\n",
    "        layers.Dense(256, activation=\"relu\"),\n",
    "        layers.Dense(128, activation='relu'),\n",
    "        layers.Dense(10, activation=\"softmax\"),\n",
    "    ]\n",
    ")\n",
    "\n",
    "model.summary()"
   ]
  },
  {
   "cell_type": "code",
   "execution_count": 10,
   "metadata": {},
   "outputs": [
    {
     "name": "stdout",
     "output_type": "stream",
     "text": [
      "Epoch 1/10\n"
     ]
    },
    {
     "name": "stderr",
     "output_type": "stream",
     "text": [
      "c:\\Users\\praya\\.conda\\envs\\tf\\lib\\site-packages\\keras\\optimizers\\optimizer_v2\\adam.py:114: UserWarning: The `lr` argument is deprecated, use `learning_rate` instead.\n",
      "  super().__init__(name, **kwargs)\n"
     ]
    },
    {
     "name": "stdout",
     "output_type": "stream",
     "text": [
      "938/938 - 4s - loss: 0.2040 - accuracy: 0.9374 - 4s/epoch - 4ms/step\n",
      "Epoch 2/10\n",
      "938/938 - 3s - loss: 0.0814 - accuracy: 0.9747 - 3s/epoch - 3ms/step\n",
      "Epoch 3/10\n",
      "938/938 - 3s - loss: 0.0582 - accuracy: 0.9815 - 3s/epoch - 3ms/step\n",
      "Epoch 4/10\n",
      "938/938 - 3s - loss: 0.0443 - accuracy: 0.9855 - 3s/epoch - 3ms/step\n",
      "Epoch 5/10\n",
      "938/938 - 3s - loss: 0.0335 - accuracy: 0.9889 - 3s/epoch - 3ms/step\n",
      "Epoch 6/10\n",
      "938/938 - 3s - loss: 0.0278 - accuracy: 0.9913 - 3s/epoch - 3ms/step\n",
      "Epoch 7/10\n",
      "938/938 - 3s - loss: 0.0246 - accuracy: 0.9916 - 3s/epoch - 3ms/step\n",
      "Epoch 8/10\n",
      "938/938 - 3s - loss: 0.0235 - accuracy: 0.9923 - 3s/epoch - 3ms/step\n",
      "Epoch 9/10\n",
      "938/938 - 3s - loss: 0.0183 - accuracy: 0.9942 - 3s/epoch - 3ms/step\n",
      "Epoch 10/10\n",
      "938/938 - 3s - loss: 0.0182 - accuracy: 0.9944 - 3s/epoch - 3ms/step\n",
      "157/157 - 0s - loss: 0.0909 - accuracy: 0.9784 - 479ms/epoch - 3ms/step\n"
     ]
    },
    {
     "data": {
      "text/plain": [
       "[0.09087911248207092, 0.9783999919891357]"
      ]
     },
     "execution_count": 10,
     "metadata": {},
     "output_type": "execute_result"
    }
   ],
   "source": [
    "\n",
    "model.compile(\n",
    "    loss=keras.losses.SparseCategoricalCrossentropy(from_logits=False),\n",
    "    optimizer=keras.optimizers.Adam(lr=0.001),\n",
    "    metrics=[\"accuracy\"],\n",
    ")\n",
    "\n",
    "model.fit(x_train, y_train, batch_size=64, epochs=10, verbose=2)\n",
    "model.evaluate(x_test, y_test, batch_size=64, verbose=2)"
   ]
  },
  {
   "attachments": {},
   "cell_type": "markdown",
   "metadata": {},
   "source": [
    "The number 1875 shown during fitting the model is not the training samples; it is the number of batches."
   ]
  },
  {
   "cell_type": "code",
   "execution_count": 11,
   "metadata": {},
   "outputs": [],
   "source": [
    "# Another way to write a model"
   ]
  },
  {
   "cell_type": "code",
   "execution_count": 12,
   "metadata": {},
   "outputs": [
    {
     "name": "stdout",
     "output_type": "stream",
     "text": [
      "Epoch 1/10\n",
      "938/938 - 3s - loss: 0.1993 - accuracy: 0.9404 - 3s/epoch - 3ms/step\n",
      "Epoch 2/10\n",
      "938/938 - 3s - loss: 0.0785 - accuracy: 0.9758 - 3s/epoch - 3ms/step\n",
      "Epoch 3/10\n",
      "938/938 - 3s - loss: 0.0509 - accuracy: 0.9837 - 3s/epoch - 3ms/step\n",
      "Epoch 4/10\n",
      "938/938 - 3s - loss: 0.0366 - accuracy: 0.9882 - 3s/epoch - 3ms/step\n",
      "Epoch 5/10\n",
      "938/938 - 3s - loss: 0.0283 - accuracy: 0.9910 - 3s/epoch - 3ms/step\n",
      "Epoch 6/10\n",
      "938/938 - 3s - loss: 0.0257 - accuracy: 0.9913 - 3s/epoch - 3ms/step\n",
      "Epoch 7/10\n",
      "938/938 - 3s - loss: 0.0197 - accuracy: 0.9936 - 3s/epoch - 3ms/step\n",
      "Epoch 8/10\n",
      "938/938 - 3s - loss: 0.0180 - accuracy: 0.9941 - 3s/epoch - 3ms/step\n",
      "Epoch 9/10\n",
      "938/938 - 3s - loss: 0.0150 - accuracy: 0.9947 - 3s/epoch - 3ms/step\n",
      "Epoch 10/10\n",
      "938/938 - 3s - loss: 0.0146 - accuracy: 0.9952 - 3s/epoch - 3ms/step\n",
      "157/157 - 0s - loss: 0.0832 - accuracy: 0.9822 - 452ms/epoch - 3ms/step\n"
     ]
    },
    {
     "data": {
      "text/plain": [
       "[0.0831514373421669, 0.982200026512146]"
      ]
     },
     "execution_count": 12,
     "metadata": {},
     "output_type": "execute_result"
    }
   ],
   "source": [
    "model2 = keras.Sequential()\n",
    "model2.add(keras.Input(shape=(28*28)))\n",
    "model2.add(layers.Dense(512, activation='relu'))\n",
    "model2.add(layers.Dense(256, activation='relu'))\n",
    "model2.add(layers.Dense(10, activation='softmax'))\n",
    "\n",
    "model2.compile(\n",
    "    loss = keras.losses.SparseCategoricalCrossentropy(),\n",
    "    optimizer=keras.optimizers.Adam(lr=0.001),\n",
    "    metrics=[\"accuracy\"],\n",
    ")\n",
    "\n",
    "model2.fit(x_train, y_train, batch_size=64, epochs=10, verbose=2)\n",
    "model2.evaluate(x_test, y_test, batch_size=64, verbose=2)"
   ]
  },
  {
   "cell_type": "code",
   "execution_count": 13,
   "metadata": {},
   "outputs": [],
   "source": [
    "# Functional api"
   ]
  },
  {
   "cell_type": "code",
   "execution_count": 19,
   "metadata": {},
   "outputs": [],
   "source": [
    "inputs = keras.Input(shape=(784))\n",
    "x=layers.Dense(512, activation='relu')(inputs)\n",
    "x=layers.Dense(256, activation='relu')(x)\n",
    "# x=layers.Dense(128, activation='relu')(x)\n",
    "outputs = layers.Dense(10, activation='softmax')(x)\n",
    "\n",
    "model3 = keras.Model(inputs=inputs, outputs=outputs)\n",
    "\n",
    "model3.compile(\n",
    "    loss=keras.losses.SparseCategoricalCrossentropy(from_logits=False),\n",
    "    optimizer=keras.optimizers.Adam(lr=0.001),\n",
    "    metrics=['accuracy']\n",
    ")"
   ]
  },
  {
   "cell_type": "code",
   "execution_count": 21,
   "metadata": {},
   "outputs": [
    {
     "name": "stdout",
     "output_type": "stream",
     "text": [
      "Epoch 1/10\n",
      "1875/1875 - 5s - loss: 0.0306 - accuracy: 0.9899 - 5s/epoch - 3ms/step\n",
      "Epoch 2/10\n",
      "1875/1875 - 5s - loss: 0.0209 - accuracy: 0.9934 - 5s/epoch - 3ms/step\n",
      "Epoch 3/10\n",
      "1875/1875 - 5s - loss: 0.0201 - accuracy: 0.9938 - 5s/epoch - 3ms/step\n",
      "Epoch 4/10\n",
      "1875/1875 - 5s - loss: 0.0187 - accuracy: 0.9945 - 5s/epoch - 3ms/step\n",
      "Epoch 5/10\n",
      "1875/1875 - 5s - loss: 0.0153 - accuracy: 0.9954 - 5s/epoch - 3ms/step\n",
      "Epoch 6/10\n",
      "1875/1875 - 6s - loss: 0.0151 - accuracy: 0.9952 - 6s/epoch - 3ms/step\n",
      "Epoch 7/10\n",
      "1875/1875 - 6s - loss: 0.0138 - accuracy: 0.9955 - 6s/epoch - 3ms/step\n",
      "Epoch 8/10\n",
      "1875/1875 - 6s - loss: 0.0133 - accuracy: 0.9961 - 6s/epoch - 3ms/step\n",
      "Epoch 9/10\n",
      "1875/1875 - 5s - loss: 0.0120 - accuracy: 0.9965 - 5s/epoch - 3ms/step\n",
      "Epoch 10/10\n",
      "1875/1875 - 5s - loss: 0.0137 - accuracy: 0.9962 - 5s/epoch - 3ms/step\n",
      "313/313 - 1s - loss: 0.1285 - accuracy: 0.9791 - 707ms/epoch - 2ms/step\n"
     ]
    },
    {
     "data": {
      "text/plain": [
       "[0.12850023806095123, 0.9790999889373779]"
      ]
     },
     "execution_count": 21,
     "metadata": {},
     "output_type": "execute_result"
    }
   ],
   "source": [
    "model3.fit(x_train, y_train, batch_size=32, epochs=10, verbose=2)\n",
    "model3.evaluate(x_test, y_test, batch_size=32, verbose=2)"
   ]
  },
  {
   "cell_type": "code",
   "execution_count": null,
   "metadata": {},
   "outputs": [],
   "source": []
  }
 ],
 "metadata": {
  "kernelspec": {
   "display_name": "tf",
   "language": "python",
   "name": "python3"
  },
  "language_info": {
   "codemirror_mode": {
    "name": "ipython",
    "version": 3
   },
   "file_extension": ".py",
   "mimetype": "text/x-python",
   "name": "python",
   "nbconvert_exporter": "python",
   "pygments_lexer": "ipython3",
   "version": "3.9.16"
  },
  "orig_nbformat": 4
 },
 "nbformat": 4,
 "nbformat_minor": 2
}
